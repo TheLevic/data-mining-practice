{
 "cells": [
  {
   "cell_type": "markdown",
   "id": "a6139e28-b570-4736-afe1-940623d88cca",
   "metadata": {},
   "source": [
    "CSCE 4143: Data Mining\\\n",
    "Xintao Wu, Ph.D.\\\n",
    "Practice Project\\\n",
    "Group 7: Levi Crider, Caleb Holmes, Spencer Smith, and Ethan Weems"
   ]
  },
  {
   "cell_type": "code",
   "execution_count": 30,
   "id": "5cdd9f4a-feaf-4521-9f20-9ce92de6be0d",
   "metadata": {
    "ExecuteTime": {
     "end_time": "2023-10-03T23:18:35.267321Z",
     "start_time": "2023-10-03T23:18:35.207905Z"
    }
   },
   "outputs": [],
   "source": [
    "import pandas as pd\n",
    "\n",
    "df = pd.read_table(\"./adult/adult.data\")\n"
   ]
  },
  {
   "cell_type": "code",
   "execution_count": 31,
   "outputs": [
    {
     "data": {
      "text/plain": "      39, State-gov, 77516, Bachelors, 13, Never-married, Adm-clerical, Not-in-family, White, Male, 2174, 0, 40, United-States, <=50K\n0      50, Self-emp-not-inc, 83311, Bachelors, 13, Ma...                                                                             \n1      38, Private, 215646, HS-grad, 9, Divorced, Han...                                                                             \n2      53, Private, 234721, 11th, 7, Married-civ-spou...                                                                             \n3      28, Private, 338409, Bachelors, 13, Married-ci...                                                                             \n4      37, Private, 284582, Masters, 14, Married-civ-...                                                                             \n...                                                  ...                                                                             \n32555  27, Private, 257302, Assoc-acdm, 12, Married-c...                                                                             \n32556  40, Private, 154374, HS-grad, 9, Married-civ-s...                                                                             \n32557  58, Private, 151910, HS-grad, 9, Widowed, Adm-...                                                                             \n32558  22, Private, 201490, HS-grad, 9, Never-married...                                                                             \n32559  52, Self-emp-inc, 287927, HS-grad, 9, Married-...                                                                             \n\n[32560 rows x 1 columns]",
      "text/html": "<div>\n<style scoped>\n    .dataframe tbody tr th:only-of-type {\n        vertical-align: middle;\n    }\n\n    .dataframe tbody tr th {\n        vertical-align: top;\n    }\n\n    .dataframe thead th {\n        text-align: right;\n    }\n</style>\n<table border=\"1\" class=\"dataframe\">\n  <thead>\n    <tr style=\"text-align: right;\">\n      <th></th>\n      <th>39, State-gov, 77516, Bachelors, 13, Never-married, Adm-clerical, Not-in-family, White, Male, 2174, 0, 40, United-States, &lt;=50K</th>\n    </tr>\n  </thead>\n  <tbody>\n    <tr>\n      <th>0</th>\n      <td>50, Self-emp-not-inc, 83311, Bachelors, 13, Ma...</td>\n    </tr>\n    <tr>\n      <th>1</th>\n      <td>38, Private, 215646, HS-grad, 9, Divorced, Han...</td>\n    </tr>\n    <tr>\n      <th>2</th>\n      <td>53, Private, 234721, 11th, 7, Married-civ-spou...</td>\n    </tr>\n    <tr>\n      <th>3</th>\n      <td>28, Private, 338409, Bachelors, 13, Married-ci...</td>\n    </tr>\n    <tr>\n      <th>4</th>\n      <td>37, Private, 284582, Masters, 14, Married-civ-...</td>\n    </tr>\n    <tr>\n      <th>...</th>\n      <td>...</td>\n    </tr>\n    <tr>\n      <th>32555</th>\n      <td>27, Private, 257302, Assoc-acdm, 12, Married-c...</td>\n    </tr>\n    <tr>\n      <th>32556</th>\n      <td>40, Private, 154374, HS-grad, 9, Married-civ-s...</td>\n    </tr>\n    <tr>\n      <th>32557</th>\n      <td>58, Private, 151910, HS-grad, 9, Widowed, Adm-...</td>\n    </tr>\n    <tr>\n      <th>32558</th>\n      <td>22, Private, 201490, HS-grad, 9, Never-married...</td>\n    </tr>\n    <tr>\n      <th>32559</th>\n      <td>52, Self-emp-inc, 287927, HS-grad, 9, Married-...</td>\n    </tr>\n  </tbody>\n</table>\n<p>32560 rows × 1 columns</p>\n</div>"
     },
     "metadata": {},
     "output_type": "display_data"
    }
   ],
   "source": [
    "display(df)\n"
   ],
   "metadata": {
    "collapsed": false,
    "ExecuteTime": {
     "end_time": "2023-10-03T23:18:35.274908Z",
     "start_time": "2023-10-03T23:18:35.272329Z"
    }
   },
   "id": "8815d026f50e5b36"
  }
 ],
 "metadata": {
  "kernelspec": {
   "display_name": "Python 3 (ipykernel)",
   "language": "python",
   "name": "python3"
  },
  "language_info": {
   "codemirror_mode": {
    "name": "ipython",
    "version": 3
   },
   "file_extension": ".py",
   "mimetype": "text/x-python",
   "name": "python",
   "nbconvert_exporter": "python",
   "pygments_lexer": "ipython3",
   "version": "3.10.9"
  }
 },
 "nbformat": 4,
 "nbformat_minor": 5
}

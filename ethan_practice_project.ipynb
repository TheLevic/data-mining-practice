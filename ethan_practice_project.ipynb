{
 "cells": [
  {
   "cell_type": "markdown",
   "id": "a6139e28-b570-4736-afe1-940623d88cca",
   "metadata": {},
   "source": [
    "CSCE 4143: Data Mining\\\n",
    "Xintao Wu, Ph.D.\\\n",
    "Practice Project\\\n",
    "Group 7: Levi Crider, Caleb Holmes, Spencer Smith, and Ethan Weems"
   ]
  },
  {
   "cell_type": "code",
   "execution_count": 26,
   "id": "5cdd9f4a-feaf-4521-9f20-9ce92de6be0d",
   "metadata": {
    "ExecuteTime": {
     "end_time": "2023-10-03T23:15:24.242087Z",
     "start_time": "2023-10-03T23:15:24.183131Z"
    }
   },
   "outputs": [],
   "source": [
    "import pandas as pd\n",
    "\n",
    "df = pd.read_table(\"/Users/levi/Downloads/adult/adult.data\")\n"
   ]
  },
  {
   "cell_type": "code",
   "execution_count": 27,
   "outputs": [
    {
     "name": "stdout",
     "output_type": "stream",
     "text": [
      "   39, State-gov, 77516, Bachelors, 13, Never-married, Adm-clerical, Not-in-family, White, Male, 2174, 0, 40, United-States, <=50K\n",
      "15  25, Self-emp-not-inc, 176756, HS-grad, 9, Neve...                                                                             \n"
     ]
    }
   ],
   "source": [
    "print(df.iloc[['15']])\n",
    "\n"
   ],
   "metadata": {
    "collapsed": false,
    "ExecuteTime": {
     "end_time": "2023-10-03T23:15:24.247608Z",
     "start_time": "2023-10-03T23:15:24.245054Z"
    }
   },
   "id": "8815d026f50e5b36"
  }
 ],
 "metadata": {
  "kernelspec": {
   "display_name": "Python 3 (ipykernel)",
   "language": "python",
   "name": "python3"
  },
  "language_info": {
   "codemirror_mode": {
    "name": "ipython",
    "version": 3
   },
   "file_extension": ".py",
   "mimetype": "text/x-python",
   "name": "python",
   "nbconvert_exporter": "python",
   "pygments_lexer": "ipython3",
   "version": "3.10.9"
  }
 },
 "nbformat": 4,
 "nbformat_minor": 5
}

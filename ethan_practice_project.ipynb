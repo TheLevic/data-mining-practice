{
 "cells": [
  {
   "cell_type": "markdown",
   "id": "a6139e28-b570-4736-afe1-940623d88cca",
   "metadata": {},
   "source": [
    "CSCE 4143: Data Mining\\\n",
    "Xintao Wu, Ph.D.\\\n",
    "Practice Project\\\n",
    "Group 7: Levi Crider, Caleb Holmes, Spencer Smith, and Ethan Weems"
   ]
  },
  {
   "cell_type": "markdown",
   "id": "43bd7040-335c-437b-bd92-6c1aa9f5e0ca",
   "metadata": {},
   "source": [
    "Import Packages"
   ]
  },
  {
   "cell_type": "code",
   "execution_count": 1,
   "id": "c2c9367f-8854-4473-80ff-761bc569f9e6",
   "metadata": {},
   "outputs": [],
   "source": [
    "import pandas as pd\n",
    "from sklearn.model_selection import train_test_split\n",
    "from sklearn.preprocessing import OneHotEncoder\n",
    "from sklearn.preprocessing import LabelEncoder\n",
    "from sklearn.tree import DecisionTreeClassifier\n",
    "from sklearn.metrics import accuracy_score\n",
    "from sklearn.metrics import confusion_matrix\n",
    "import matplotlib.pyplot as plt"
   ]
  },
  {
   "cell_type": "markdown",
   "id": "464a952c-da34-4d29-96cb-c7dd09fe59a5",
   "metadata": {},
   "source": [
    "Import Data from Adult Data File"
   ]
  },
  {
   "cell_type": "code",
   "execution_count": 2,
   "id": "5cdd9f4a-feaf-4521-9f20-9ce92de6be0d",
   "metadata": {
    "ExecuteTime": {
     "end_time": "2023-10-06T18:49:32.181132Z",
     "start_time": "2023-10-06T18:49:32.127659Z"
    }
   },
   "outputs": [],
   "source": [
    "labels = [\"age\", \"workclass\", \"fnlwgt\", \"education\", \"education-num\", \"marital-status\", \"occupation\", \"relationship\", \"race\", \"sex\", \"capital-gain\", \"capital-loss\", \"hours-per-week\", \"native-country\", \"actual-value\"]\n",
    "cont_att = [\"age\", \"fnlwgt\", \"capital-gain\", \"capital-loss\", \"hours-per-week\"]\n",
    "df = pd.read_table(\"./adult/adult.data\", names=labels, delimiter=\",\")"
   ]
  },
  {
   "cell_type": "markdown",
   "id": "568143cf-95a4-4d95-b322-9307efcbb10d",
   "metadata": {},
   "source": [
    "Clean Data\\\n",
    "-Remove continuous attributes\\\n",
    "-Remove unknown values"
   ]
  },
  {
   "cell_type": "code",
   "execution_count": 3,
   "id": "8815d026f50e5b36",
   "metadata": {
    "ExecuteTime": {
     "end_time": "2023-10-06T18:49:32.459177Z",
     "start_time": "2023-10-06T18:49:32.221672Z"
    },
    "collapsed": false,
    "jupyter": {
     "outputs_hidden": false
    }
   },
   "outputs": [],
   "source": [
    "df = df.astype(str)\n",
    "df = df.drop(columns = cont_att)\n",
    "\n",
    "# using list comprehension\n",
    "curr_labels = [i for i in labels if i not in cont_att]\n",
    "\n",
    "substring = '\\?' # character indicating null value\n",
    "for label in curr_labels:\n",
    "   filter = df[label].str.contains(substring) \n",
    "   df = df[~filter]\n",
    "\n",
    "df = df.reset_index(drop=True)"
   ]
  },
  {
   "cell_type": "markdown",
   "id": "46894953-7228-42c0-a281-460b7ac19e1e",
   "metadata": {},
   "source": [
    "Perform One-Hot Encoding, Split Data, Build Classifier"
   ]
  },
  {
   "cell_type": "code",
   "execution_count": 12,
   "id": "a31d81bb1f0f32a1",
   "metadata": {
    "ExecuteTime": {
     "end_time": "2023-10-06T18:49:32.461447Z",
     "start_time": "2023-10-06T18:49:32.459077Z"
    },
    "collapsed": false,
    "jupyter": {
     "outputs_hidden": false
    }
   },
   "outputs": [],
   "source": [
    "X = df[curr_labels[0 : len(curr_labels) - 1]]\n",
    "y = df[\"actual-value\"].values\n",
    "\n",
    "one_hot = OneHotEncoder()\n",
    "label_encoder = LabelEncoder()\n",
    "x_encode = one_hot.fit_transform(X).toarray()\n",
    "y_encode = label_encoder.fit_transform(y)\n",
    "\n",
    "X_train, X_test, y_train, y_test = train_test_split(x_encode, y_encode, test_size=0.2)\n",
    "\n",
    "clf = DecisionTreeClassifier(criterion = 'gini')"
   ]
  },
  {
   "cell_type": "markdown",
   "id": "701110d6-66da-4aaf-8753-7b59f408e531",
   "metadata": {},
   "source": [
    "Train the Model"
   ]
  },
  {
   "cell_type": "code",
   "execution_count": 13,
   "id": "6eec9abd-3227-4a1e-9ec2-59543ef7648c",
   "metadata": {},
   "outputs": [
    {
     "data": {
      "text/html": [
       "<style>#sk-container-id-3 {color: black;background-color: white;}#sk-container-id-3 pre{padding: 0;}#sk-container-id-3 div.sk-toggleable {background-color: white;}#sk-container-id-3 label.sk-toggleable__label {cursor: pointer;display: block;width: 100%;margin-bottom: 0;padding: 0.3em;box-sizing: border-box;text-align: center;}#sk-container-id-3 label.sk-toggleable__label-arrow:before {content: \"▸\";float: left;margin-right: 0.25em;color: #696969;}#sk-container-id-3 label.sk-toggleable__label-arrow:hover:before {color: black;}#sk-container-id-3 div.sk-estimator:hover label.sk-toggleable__label-arrow:before {color: black;}#sk-container-id-3 div.sk-toggleable__content {max-height: 0;max-width: 0;overflow: hidden;text-align: left;background-color: #f0f8ff;}#sk-container-id-3 div.sk-toggleable__content pre {margin: 0.2em;color: black;border-radius: 0.25em;background-color: #f0f8ff;}#sk-container-id-3 input.sk-toggleable__control:checked~div.sk-toggleable__content {max-height: 200px;max-width: 100%;overflow: auto;}#sk-container-id-3 input.sk-toggleable__control:checked~label.sk-toggleable__label-arrow:before {content: \"▾\";}#sk-container-id-3 div.sk-estimator input.sk-toggleable__control:checked~label.sk-toggleable__label {background-color: #d4ebff;}#sk-container-id-3 div.sk-label input.sk-toggleable__control:checked~label.sk-toggleable__label {background-color: #d4ebff;}#sk-container-id-3 input.sk-hidden--visually {border: 0;clip: rect(1px 1px 1px 1px);clip: rect(1px, 1px, 1px, 1px);height: 1px;margin: -1px;overflow: hidden;padding: 0;position: absolute;width: 1px;}#sk-container-id-3 div.sk-estimator {font-family: monospace;background-color: #f0f8ff;border: 1px dotted black;border-radius: 0.25em;box-sizing: border-box;margin-bottom: 0.5em;}#sk-container-id-3 div.sk-estimator:hover {background-color: #d4ebff;}#sk-container-id-3 div.sk-parallel-item::after {content: \"\";width: 100%;border-bottom: 1px solid gray;flex-grow: 1;}#sk-container-id-3 div.sk-label:hover label.sk-toggleable__label {background-color: #d4ebff;}#sk-container-id-3 div.sk-serial::before {content: \"\";position: absolute;border-left: 1px solid gray;box-sizing: border-box;top: 0;bottom: 0;left: 50%;z-index: 0;}#sk-container-id-3 div.sk-serial {display: flex;flex-direction: column;align-items: center;background-color: white;padding-right: 0.2em;padding-left: 0.2em;position: relative;}#sk-container-id-3 div.sk-item {position: relative;z-index: 1;}#sk-container-id-3 div.sk-parallel {display: flex;align-items: stretch;justify-content: center;background-color: white;position: relative;}#sk-container-id-3 div.sk-item::before, #sk-container-id-3 div.sk-parallel-item::before {content: \"\";position: absolute;border-left: 1px solid gray;box-sizing: border-box;top: 0;bottom: 0;left: 50%;z-index: -1;}#sk-container-id-3 div.sk-parallel-item {display: flex;flex-direction: column;z-index: 1;position: relative;background-color: white;}#sk-container-id-3 div.sk-parallel-item:first-child::after {align-self: flex-end;width: 50%;}#sk-container-id-3 div.sk-parallel-item:last-child::after {align-self: flex-start;width: 50%;}#sk-container-id-3 div.sk-parallel-item:only-child::after {width: 0;}#sk-container-id-3 div.sk-dashed-wrapped {border: 1px dashed gray;margin: 0 0.4em 0.5em 0.4em;box-sizing: border-box;padding-bottom: 0.4em;background-color: white;}#sk-container-id-3 div.sk-label label {font-family: monospace;font-weight: bold;display: inline-block;line-height: 1.2em;}#sk-container-id-3 div.sk-label-container {text-align: center;}#sk-container-id-3 div.sk-container {/* jupyter's `normalize.less` sets `[hidden] { display: none; }` but bootstrap.min.css set `[hidden] { display: none !important; }` so we also need the `!important` here to be able to override the default hidden behavior on the sphinx rendered scikit-learn.org. See: https://github.com/scikit-learn/scikit-learn/issues/21755 */display: inline-block !important;position: relative;}#sk-container-id-3 div.sk-text-repr-fallback {display: none;}</style><div id=\"sk-container-id-3\" class=\"sk-top-container\"><div class=\"sk-text-repr-fallback\"><pre>DecisionTreeClassifier()</pre><b>In a Jupyter environment, please rerun this cell to show the HTML representation or trust the notebook. <br />On GitHub, the HTML representation is unable to render, please try loading this page with nbviewer.org.</b></div><div class=\"sk-container\" hidden><div class=\"sk-item\"><div class=\"sk-estimator sk-toggleable\"><input class=\"sk-toggleable__control sk-hidden--visually\" id=\"sk-estimator-id-3\" type=\"checkbox\" checked><label for=\"sk-estimator-id-3\" class=\"sk-toggleable__label sk-toggleable__label-arrow\">DecisionTreeClassifier</label><div class=\"sk-toggleable__content\"><pre>DecisionTreeClassifier()</pre></div></div></div></div></div>"
      ],
      "text/plain": [
       "DecisionTreeClassifier()"
      ]
     },
     "execution_count": 13,
     "metadata": {},
     "output_type": "execute_result"
    }
   ],
   "source": [
    "clf.fit(X_train, y_train)"
   ]
  },
  {
   "cell_type": "code",
   "execution_count": 21,
   "id": "1b6736ca-e936-4c33-932a-d6512eac267c",
   "metadata": {},
   "outputs": [
    {
     "name": "stdout",
     "output_type": "stream",
     "text": [
      "Accuracy: 0.8108735289242499\n",
      "[[4051  462]\n",
      " [ 679  841]]\n",
      "axis=0 [4730 1303]\n",
      "axis=1 [4513 1520]\n"
     ]
    }
   ],
   "source": [
    "predictions = clf.predict(X_test)\n",
    "\n",
    "# Calculate accuracy\n",
    "accuracy = accuracy_score(y_true = y_test, y_pred = predictions)\n",
    "print(\"Accuracy:\", accuracy)\n",
    "\n",
    "y_pred_decode = label_encoder.inverse_transform(predictions)\n",
    "y_true_decode = label_encoder.inverse_transform(y_test)\n",
    "\n",
    "conf_matrix = confusion_matrix(y_true_decode, y_pred_decode)\n",
    "print(conf_matrix)\n",
    "\n",
    "true_positive_rate = conf_matrix.diagonal()/conf_matrix.sum(axis=1)\n",
    "print(\"axis=0\", conf_matrix.sum(axis = 0))\n",
    "print(\"axis=1\",conf_matrix.sum(axis = 1))\n",
    "false_positive_rate = (conf_matrix."
   ]
  },
  {
   "cell_type": "code",
   "execution_count": null,
   "id": "395cce68-bf19-4e01-81e8-cc3a9b04ebfb",
   "metadata": {},
   "outputs": [],
   "source": []
  },
  {
   "cell_type": "code",
   "execution_count": null,
   "id": "7e5345bc-c7b8-466f-aaa8-87c8f4a328b1",
   "metadata": {},
   "outputs": [],
   "source": []
  }
 ],
 "metadata": {
  "kernelspec": {
   "display_name": "Python 3 (ipykernel)",
   "language": "python",
   "name": "python3"
  },
  "language_info": {
   "codemirror_mode": {
    "name": "ipython",
    "version": 3
   },
   "file_extension": ".py",
   "mimetype": "text/x-python",
   "name": "python",
   "nbconvert_exporter": "python",
   "pygments_lexer": "ipython3",
   "version": "3.10.9"
  }
 },
 "nbformat": 4,
 "nbformat_minor": 5
}

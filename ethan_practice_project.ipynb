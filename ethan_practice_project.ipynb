{
 "cells": [
  {
   "cell_type": "markdown",
   "id": "a6139e28-b570-4736-afe1-940623d88cca",
   "metadata": {},
   "source": [
    "CSCE 4143: Data Mining\\\n",
    "Xintao Wu, Ph.D.\\\n",
    "Practice Project\\\n",
    "Group 7: Levi Crider, Caleb Holmes, Spencer Smith, and Ethan Weems"
   ]
  },
  {
   "cell_type": "code",
   "execution_count": 162,
   "id": "5cdd9f4a-feaf-4521-9f20-9ce92de6be0d",
   "metadata": {
    "ExecuteTime": {
     "end_time": "2023-10-04T00:02:12.522873Z",
     "start_time": "2023-10-04T00:02:12.468301Z"
    }
   },
   "outputs": [],
   "source": [
    "import pandas as pd\n",
    "labels = [\"age\", \"workclass\", \"fnlwgt\", \"education\", \"education-num\", \"marital-status\", \"occupation\", \"relationship\", \"race\", \"sex\", \"capital-gain\", \"capital-loss\", \"hours-per-week\", \"native-country\", \"actual-value\"]\n",
    "continuous_cols = [\"age\", \"fnlwgt\", \"capital-gain\", \"capital-loss\", \"hours-per-week\"]\n",
    "df = pd.read_table(\"./adult/adult.data\", names=labels, delimiter=\",\")"
   ]
  },
  {
   "cell_type": "code",
   "execution_count": 163,
   "outputs": [
    {
     "name": "stdout",
     "output_type": "stream",
     "text": [
      "workclass                           ?\n",
      "education                Some-college\n",
      "education-num                      10\n",
      "marital-status     Married-civ-spouse\n",
      "occupation                          ?\n",
      "relationship                  Husband\n",
      "race               Asian-Pac-Islander\n",
      "sex                              Male\n",
      "native-country                  South\n",
      "actual-value                     >50K\n",
      "Name: 27, dtype: object\n"
     ]
    }
   ],
   "source": [
    "df = df.drop(columns=continuous_cols)\n",
    "\n",
    "# Replace \"?\" with NaN in the entire DataFrame\n",
    "df.replace(\"?\", pd.NA)\n",
    "\n",
    "# Drop rows containing NaN values in any column\n",
    "df.dropna(axis=0, how='any')\n",
    "\n",
    "print(df.iloc[27])\n",
    "\n",
    "\n",
    "# # Drop rows containing pd.NA in any column\n",
    "# df.dropna(axis=0, how='any', inplace=True)\n",
    "# \n",
    "# # Reset the index after dropping rows\n",
    "# df.reset_index(drop=True, inplace=True)\n",
    "# \n",
    "# # Print the updated DataFrame\n",
    "# print(df.shape)\n",
    "# df\n"
   ],
   "metadata": {
    "collapsed": false,
    "ExecuteTime": {
     "end_time": "2023-10-04T00:02:12.552581Z",
     "start_time": "2023-10-04T00:02:12.524951Z"
    }
   },
   "id": "8815d026f50e5b36"
  },
  {
   "cell_type": "code",
   "execution_count": 163,
   "outputs": [],
   "source": [],
   "metadata": {
    "collapsed": false,
    "ExecuteTime": {
     "end_time": "2023-10-04T00:02:12.554404Z",
     "start_time": "2023-10-04T00:02:12.552090Z"
    }
   },
   "id": "a31d81bb1f0f32a1"
  }
 ],
 "metadata": {
  "kernelspec": {
   "display_name": "Python 3 (ipykernel)",
   "language": "python",
   "name": "python3"
  },
  "language_info": {
   "codemirror_mode": {
    "name": "ipython",
    "version": 3
   },
   "file_extension": ".py",
   "mimetype": "text/x-python",
   "name": "python",
   "nbconvert_exporter": "python",
   "pygments_lexer": "ipython3",
   "version": "3.10.9"
  }
 },
 "nbformat": 4,
 "nbformat_minor": 5
}

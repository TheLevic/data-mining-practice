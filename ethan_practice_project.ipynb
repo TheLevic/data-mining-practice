{
 "cells": [
  {
   "cell_type": "markdown",
   "id": "a6139e28-b570-4736-afe1-940623d88cca",
   "metadata": {},
   "source": [
    "CSCE 4143: Data Mining\\\n",
    "Xintao Wu, Ph.D.\\\n",
    "Practice Project\\\n",
    "Group 7: Levi Crider, Caleb Holmes, Spencer Smith, and Ethan Weems"
   ]
  },
  {
   "cell_type": "code",
   "execution_count": 29,
   "id": "5cdd9f4a-feaf-4521-9f20-9ce92de6be0d",
   "metadata": {
    "ExecuteTime": {
     "end_time": "2023-10-06T18:49:32.181132Z",
     "start_time": "2023-10-06T18:49:32.127659Z"
    }
   },
   "outputs": [],
   "source": [
    "import pandas as pd\n",
    "from sklearn.model_selection import train_test_split\n",
    "from sklearn.preprocessing import OneHotEncoder\n",
    "from sklearn.tree import DecisionTreeClassifier\n",
    "from sklearn.metrics import accuracy_score\n",
    "labels = [\"age\", \"workclass\", \"fnlwgt\", \"education\", \"education-num\", \"marital-status\", \"occupation\", \"relationship\", \"race\", \"sex\", \"capital-gain\", \"capital-loss\", \"hours-per-week\", \"native-country\", \"actual-value\"]\n",
    "continuous_cols = [\"age\", \"fnlwgt\", \"capital-gain\", \"capital-loss\", \"hours-per-week\"]\n",
    "df = pd.read_table(\"./adult/adult.data\", names=labels, delimiter=\",\")"
   ]
  },
  {
   "cell_type": "code",
   "execution_count": 30,
   "id": "8815d026f50e5b36",
   "metadata": {
    "collapsed": false,
    "ExecuteTime": {
     "end_time": "2023-10-06T18:49:32.459177Z",
     "start_time": "2023-10-06T18:49:32.221672Z"
    }
   },
   "outputs": [
    {
     "name": "stdout",
     "output_type": "stream",
     "text": [
      "Accuracy: 0.8218133598541356\n"
     ]
    }
   ],
   "source": [
    "df = df.astype(str)\n",
    "df = df.drop(columns=continuous_cols)\n",
    "\n",
    "newLabels = [\"workclass\", \"education\", \"education-num\", \"marital-status\", \"occupation\", \"relationship\", \"race\", \"sex\", \"native-country\", \"actual-value\"]\n",
    "substring = '\\?'\n",
    "for label in newLabels:\n",
    "   filter = df[label].str.contains(substring) \n",
    "   df = df[~filter]\n",
    "\n",
    "df = df.reset_index(drop=True)\n",
    "\n",
    "X = df[newLabels[0:9]]\n",
    "Y = df[\"actual-value\"]\n",
    "\n",
    "encoder = OneHotEncoder()\n",
    "\n",
    "x_axis_encoded = encoder.fit_transform(X).toarray()\n",
    "\n",
    "X_train, X_test, y_train, y_test = train_test_split(x_axis_encoded, Y, test_size=0.2, random_state=69)\n",
    "\n",
    "clf = DecisionTreeClassifier(random_state=69)\n",
    "\n",
    "clf.fit(X_train, y_train)\n",
    "\n",
    "predictions = clf.predict(X_test)\n",
    "\n",
    "# Calculate accuracy\n",
    "accuracy = accuracy_score(y_test, predictions)\n",
    "print(\"Accuracy:\", accuracy)\n",
    "\n",
    "\n",
    "\n"
   ]
  },
  {
   "cell_type": "code",
   "execution_count": 30,
   "id": "a31d81bb1f0f32a1",
   "metadata": {
    "collapsed": false,
    "ExecuteTime": {
     "end_time": "2023-10-06T18:49:32.461447Z",
     "start_time": "2023-10-06T18:49:32.459077Z"
    }
   },
   "outputs": [],
   "source": []
  }
 ],
 "metadata": {
  "kernelspec": {
   "display_name": "Python 3 (ipykernel)",
   "language": "python",
   "name": "python3"
  },
  "language_info": {
   "codemirror_mode": {
    "name": "ipython",
    "version": 3
   },
   "file_extension": ".py",
   "mimetype": "text/x-python",
   "name": "python",
   "nbconvert_exporter": "python",
   "pygments_lexer": "ipython3",
   "version": "3.11.5"
  }
 },
 "nbformat": 4,
 "nbformat_minor": 5
}

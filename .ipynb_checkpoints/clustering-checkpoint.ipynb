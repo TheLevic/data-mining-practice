{
 "cells": [
  {
   "cell_type": "markdown",
   "id": "a6139e28-b570-4736-afe1-940623d88cca",
   "metadata": {},
   "source": [
    "CSCE 4143: Data Mining\\\n",
    "Xintao Wu, Ph.D.\\\n",
    "Practice Project\\\n",
    "Group 7: Levi Crider, Caleb Holmes, Spencer Smith, and Ethan Weems\\\n",
    "Step 2: Clustering"
   ]
  },
  {
   "cell_type": "markdown",
   "id": "43bd7040-335c-437b-bd92-6c1aa9f5e0ca",
   "metadata": {},
   "source": [
    "Import Packages"
   ]
  },
  {
   "cell_type": "code",
   "execution_count": 57,
   "id": "c2c9367f-8854-4473-80ff-761bc569f9e6",
   "metadata": {},
   "outputs": [],
   "source": [
    "import pandas as pd\n",
    "# from sklearn.preprocessing import Binarizer\n",
    "from sklearn.model_selection import train_test_split\n",
    "from sklearn.preprocessing import OneHotEncoder\n",
    "from sklearn.preprocessing import LabelEncoder\n",
    "from sklearn.cluster import KMeans\n",
    "# from sklearn.tree import DecisionTreeClassifier\n",
    "# from sklearn.metrics import accuracy_score\n",
    "# from sklearn.metrics import confusion_matrix\n",
    "# from sklearn.naive_bayes import MultinomialNB\n",
    "# import matplotlib.pyplot as plt"
   ]
  },
  {
   "cell_type": "markdown",
   "id": "464a952c-da34-4d29-96cb-c7dd09fe59a5",
   "metadata": {},
   "source": [
    "Import Data from Adult Data File"
   ]
  },
  {
   "cell_type": "code",
   "execution_count": 58,
   "id": "5cdd9f4a-feaf-4521-9f20-9ce92de6be0d",
   "metadata": {
    "ExecuteTime": {
     "end_time": "2023-10-06T18:49:32.181132Z",
     "start_time": "2023-10-06T18:49:32.127659Z"
    }
   },
   "outputs": [],
   "source": [
    "labels = [\"age\", \"workclass\", \"fnlwgt\", \"education\", \"education-num\", \"marital-status\", \"occupation\", \"relationship\", \"race\", \"sex\", \"capital-gain\", \"capital-loss\", \"hours-per-week\", \"native-country\", \"actual-value\"]\n",
    "numeric_labels = [\"age\", \"fnlwgt\", \"education-num\", \"capital-gain\", \"capital-loss\", \"hours-per-week\"]\n",
    "df = pd.read_table(\"./adult/adult.data\", names=labels, delimiter=\",\")"
   ]
  },
  {
   "cell_type": "markdown",
   "id": "568143cf-95a4-4d95-b322-9307efcbb10d",
   "metadata": {},
   "source": [
    "Clean Data\\\n",
    "-Remove unknown values\\\n",
    "-Split numerical attributes into binary attributes"
   ]
  },
  {
   "cell_type": "code",
   "execution_count": 59,
   "id": "8815d026f50e5b36",
   "metadata": {
    "ExecuteTime": {
     "end_time": "2023-10-06T18:49:32.459177Z",
     "start_time": "2023-10-06T18:49:32.221672Z"
    },
    "collapsed": false,
    "jupyter": {
     "outputs_hidden": false
    }
   },
   "outputs": [
    {
     "data": {
      "text/html": [
       "<div>\n",
       "<style scoped>\n",
       "    .dataframe tbody tr th:only-of-type {\n",
       "        vertical-align: middle;\n",
       "    }\n",
       "\n",
       "    .dataframe tbody tr th {\n",
       "        vertical-align: top;\n",
       "    }\n",
       "\n",
       "    .dataframe thead th {\n",
       "        text-align: right;\n",
       "    }\n",
       "</style>\n",
       "<table border=\"1\" class=\"dataframe\">\n",
       "  <thead>\n",
       "    <tr style=\"text-align: right;\">\n",
       "      <th></th>\n",
       "      <th>age</th>\n",
       "      <th>fnlwgt</th>\n",
       "      <th>education-num</th>\n",
       "      <th>capital-gain</th>\n",
       "      <th>capital-loss</th>\n",
       "      <th>hours-per-week</th>\n",
       "    </tr>\n",
       "  </thead>\n",
       "  <tbody>\n",
       "    <tr>\n",
       "      <th>0</th>\n",
       "      <td>1</td>\n",
       "      <td>0</td>\n",
       "      <td>1</td>\n",
       "      <td>1</td>\n",
       "      <td>0</td>\n",
       "      <td>0</td>\n",
       "    </tr>\n",
       "    <tr>\n",
       "      <th>1</th>\n",
       "      <td>1</td>\n",
       "      <td>0</td>\n",
       "      <td>1</td>\n",
       "      <td>0</td>\n",
       "      <td>0</td>\n",
       "      <td>0</td>\n",
       "    </tr>\n",
       "    <tr>\n",
       "      <th>2</th>\n",
       "      <td>0</td>\n",
       "      <td>1</td>\n",
       "      <td>0</td>\n",
       "      <td>0</td>\n",
       "      <td>0</td>\n",
       "      <td>0</td>\n",
       "    </tr>\n",
       "    <tr>\n",
       "      <th>3</th>\n",
       "      <td>1</td>\n",
       "      <td>1</td>\n",
       "      <td>0</td>\n",
       "      <td>0</td>\n",
       "      <td>0</td>\n",
       "      <td>0</td>\n",
       "    </tr>\n",
       "    <tr>\n",
       "      <th>4</th>\n",
       "      <td>0</td>\n",
       "      <td>1</td>\n",
       "      <td>1</td>\n",
       "      <td>0</td>\n",
       "      <td>0</td>\n",
       "      <td>0</td>\n",
       "    </tr>\n",
       "    <tr>\n",
       "      <th>...</th>\n",
       "      <td>...</td>\n",
       "      <td>...</td>\n",
       "      <td>...</td>\n",
       "      <td>...</td>\n",
       "      <td>...</td>\n",
       "      <td>...</td>\n",
       "    </tr>\n",
       "    <tr>\n",
       "      <th>30157</th>\n",
       "      <td>0</td>\n",
       "      <td>1</td>\n",
       "      <td>1</td>\n",
       "      <td>0</td>\n",
       "      <td>0</td>\n",
       "      <td>0</td>\n",
       "    </tr>\n",
       "    <tr>\n",
       "      <th>30158</th>\n",
       "      <td>1</td>\n",
       "      <td>0</td>\n",
       "      <td>0</td>\n",
       "      <td>0</td>\n",
       "      <td>0</td>\n",
       "      <td>0</td>\n",
       "    </tr>\n",
       "    <tr>\n",
       "      <th>30159</th>\n",
       "      <td>1</td>\n",
       "      <td>0</td>\n",
       "      <td>0</td>\n",
       "      <td>0</td>\n",
       "      <td>0</td>\n",
       "      <td>0</td>\n",
       "    </tr>\n",
       "    <tr>\n",
       "      <th>30160</th>\n",
       "      <td>0</td>\n",
       "      <td>1</td>\n",
       "      <td>0</td>\n",
       "      <td>0</td>\n",
       "      <td>0</td>\n",
       "      <td>0</td>\n",
       "    </tr>\n",
       "    <tr>\n",
       "      <th>30161</th>\n",
       "      <td>1</td>\n",
       "      <td>1</td>\n",
       "      <td>0</td>\n",
       "      <td>1</td>\n",
       "      <td>0</td>\n",
       "      <td>0</td>\n",
       "    </tr>\n",
       "  </tbody>\n",
       "</table>\n",
       "<p>30162 rows × 6 columns</p>\n",
       "</div>"
      ],
      "text/plain": [
       "       age  fnlwgt  education-num  capital-gain  capital-loss  hours-per-week\n",
       "0        1       0              1             1             0               0\n",
       "1        1       0              1             0             0               0\n",
       "2        0       1              0             0             0               0\n",
       "3        1       1              0             0             0               0\n",
       "4        0       1              1             0             0               0\n",
       "...    ...     ...            ...           ...           ...             ...\n",
       "30157    0       1              1             0             0               0\n",
       "30158    1       0              0             0             0               0\n",
       "30159    1       0              0             0             0               0\n",
       "30160    0       1              0             0             0               0\n",
       "30161    1       1              0             1             0               0\n",
       "\n",
       "[30162 rows x 6 columns]"
      ]
     },
     "execution_count": 59,
     "metadata": {},
     "output_type": "execute_result"
    }
   ],
   "source": [
    "df = df.astype(str)\n",
    "\n",
    "# using list comprehension\n",
    "curr_labels = [i for i in labels if i not in numeric_labels]\n",
    "\n",
    "substring = '\\?' # character indicating null value\n",
    "for label in curr_labels:\n",
    "   filter = df[label].str.contains(substring) \n",
    "   df = df[~filter]\n",
    "\n",
    "df = df.reset_index(drop=True)\n",
    "\n",
    "df[numeric_labels] = df[numeric_labels].astype(float)\n",
    "\n",
    "mean_values = df[numeric_labels].mean()#.to_dict()\n",
    "# print(mean_values)\n",
    "\n",
    "for num_label, threshold in mean_values.items():\n",
    "    # print(num_label, threshold)\n",
    "    df[num_label] = df[num_label].apply(lambda x: 1 if x >= threshold else 0)\n",
    "\n",
    "df[numeric_labels]"
   ]
  },
  {
   "cell_type": "markdown",
   "id": "46894953-7228-42c0-a281-460b7ac19e1e",
   "metadata": {},
   "source": [
    "Perform One-Hot Encoding and Split Data"
   ]
  },
  {
   "cell_type": "code",
   "execution_count": 56,
   "id": "a31d81bb1f0f32a1",
   "metadata": {
    "ExecuteTime": {
     "end_time": "2023-10-06T18:49:32.461447Z",
     "start_time": "2023-10-06T18:49:32.459077Z"
    },
    "collapsed": false,
    "jupyter": {
     "outputs_hidden": false
    }
   },
   "outputs": [],
   "source": [
    "X = df[curr_labels[0 : len(curr_labels) - 1]]\n",
    "y = df[\"actual-value\"].values\n",
    "\n",
    "one_hot = OneHotEncoder()\n",
    "label_encoder = LabelEncoder()\n",
    "x_encode = one_hot.fit_transform(X).toarray()\n",
    "y_encode = label_encoder.fit_transform(y)\n",
    "\n",
    "X_train, X_test, y_train, y_test = train_test_split(x_encode, y_encode, test_size=0.2)"
   ]
  },
  {
   "cell_type": "markdown",
   "id": "f89114cc-b6db-4748-87d6-c2fbf8b532e8",
   "metadata": {},
   "source": [
    "Build K-means Clustering Algorithm"
   ]
  },
  {
   "cell_type": "code",
   "execution_count": null,
   "id": "3c7e7bce-09db-4a5b-a6ce-270adfd1282c",
   "metadata": {},
   "outputs": [],
   "source": []
  }
 ],
 "metadata": {
  "kernelspec": {
   "display_name": "Python 3 (ipykernel)",
   "language": "python",
   "name": "python3"
  },
  "language_info": {
   "codemirror_mode": {
    "name": "ipython",
    "version": 3
   },
   "file_extension": ".py",
   "mimetype": "text/x-python",
   "name": "python",
   "nbconvert_exporter": "python",
   "pygments_lexer": "ipython3",
   "version": "3.10.9"
  }
 },
 "nbformat": 4,
 "nbformat_minor": 5
}
